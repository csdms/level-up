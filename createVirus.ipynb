{
 "cells": [
  {
   "cell_type": "markdown",
   "metadata": {},
   "source": [
    "# Level Up! Your Scientific Coding\n",
    "\n",
    "## Level 3: Object-oriented Programming\n",
    "\n",
    "This example was created by Benjamin Campforts during the Level 3 webinar. For the full example, see his repository at https://github.com/BCampforts/python_corona_simulation, forked from https://github.com/paulvangentcom/python_corona_simulation."
   ]
  },
  {
   "cell_type": "code",
   "execution_count": 1,
   "metadata": {},
   "outputs": [],
   "source": [
    "class Virus:\n",
    "    def __init__(self, name,infection_chance,infection_range,recovery_duration):\n",
    "        self.name = name\n",
    "        self.infection_chance = infection_chance\n",
    "        self.infection_range = infection_range       \n",
    "        \n",
    "    def documentSelf(self):\n",
    "        print('The name of this virus = ' + self.name)\n",
    "        print('The infection chance = ' + str(self.infection_chance))  \n",
    "        \n",
    "    def infect(self):\n",
    "        pass "
   ]
  },
  {
   "cell_type": "code",
   "execution_count": 2,
   "metadata": {},
   "outputs": [],
   "source": [
    "# v1 = Virus()\n",
    "# v1.name = 'virus1'\n",
    "# v1.infection_chance=0.1\n",
    "# v1.infection_range=0.2\n",
    "# v1.recovery_duration=10\n",
    "\n",
    "# v2 = Virus()\n",
    "# v2.name = 'SARS_CoV_2'\n",
    "# v2.infectionChance=0.3\n",
    "# v2.infection_range=0.4\n",
    "# v2.recovery_duration=20\n",
    "\n",
    "v1= Virus('virus1',0.1,0.2,10)\n",
    "v2= Virus('SARS_CoV_2',0.3,0.4,20)"
   ]
  },
  {
   "cell_type": "code",
   "execution_count": 3,
   "metadata": {},
   "outputs": [
    {
     "name": "stdout",
     "output_type": "stream",
     "text": [
      "The name of this virus = virus1\n",
      "The infection chance = 0.1\n",
      "The name of this virus = SARS_CoV_2\n",
      "The infection chance = 0.3\n"
     ]
    }
   ],
   "source": [
    "v1.documentSelf()\n",
    "v2.documentSelf()"
   ]
  },
  {
   "cell_type": "code",
   "execution_count": 4,
   "metadata": {},
   "outputs": [
    {
     "name": "stdout",
     "output_type": "stream",
     "text": [
      "The name of this virus = SARS_CoV_2\n",
      "The infection chance = 0.3\n"
     ]
    }
   ],
   "source": [
    "v2.documentSelf()"
   ]
  },
  {
   "cell_type": "code",
   "execution_count": 22,
   "metadata": {},
   "outputs": [],
   "source": [
    "class LethalVirus(Virus):\n",
    "    \n",
    "    def __init__(self, name,infection_chance,infection_range,recovery_duration,mortality_rate):\n",
    "        self.name = name\n",
    "        self.infection_chance = infection_chance\n",
    "        self.infection_range = infection_range\n",
    "        self.recovery_duration = recovery_duration   \n",
    "        self.mortality_rate = mortality_rate\n",
    "        \n",
    "    def documentMortality(self):\n",
    "        print('The mortality of this virus = ' + str(self.mortality_rate))\n",
    "        \n",
    "    def recover_or_die(self):\n",
    "        pass "
   ]
  },
  {
   "cell_type": "code",
   "execution_count": 23,
   "metadata": {},
   "outputs": [],
   "source": [
    "v2 = LethalVirus('SARS_CoV_2',0.3,0.4,20,0.01)"
   ]
  },
  {
   "cell_type": "code",
   "execution_count": 24,
   "metadata": {},
   "outputs": [
    {
     "name": "stdout",
     "output_type": "stream",
     "text": [
      "The name of this virus = SARS_CoV_2\n",
      "The infection chance = 0.3\n",
      "The mortality of this virus = 0.01\n"
     ]
    }
   ],
   "source": [
    "v2.documentSelf()\n",
    "v2.documentMortality()"
   ]
  },
  {
   "cell_type": "code",
   "execution_count": 27,
   "metadata": {},
   "outputs": [
    {
     "data": {
      "text/plain": [
       "__main__.LethalVirus"
      ]
     },
     "execution_count": 27,
     "metadata": {},
     "output_type": "execute_result"
    }
   ],
   "source": [
    "type(v2)"
   ]
  }
 ],
 "metadata": {
  "kernelspec": {
   "display_name": "Python 3",
   "language": "python",
   "name": "python3"
  },
  "language_info": {
   "codemirror_mode": {
    "name": "ipython",
    "version": 3
   },
   "file_extension": ".py",
   "mimetype": "text/x-python",
   "name": "python",
   "nbconvert_exporter": "python",
   "pygments_lexer": "ipython3",
   "version": "3.7.3"
  }
 },
 "nbformat": 4,
 "nbformat_minor": 4
}
